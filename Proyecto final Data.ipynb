{
 "cells": [
  {
   "cell_type": "markdown",
   "metadata": {},
   "source": [
    "# Cuaderno de Ciencia de Datos"
   ]
  },
  {
   "cell_type": "markdown",
   "metadata": {},
   "source": [
    "## Introducción: \n",
    "Este cuaderno está diseñado para proporcionar una introducción a las herramientas y lenguajes utilizados en la ciencia de datos, así como ejemplos de operaciones aritméticas y conversión de unidades."
   ]
  },
  {
   "cell_type": "markdown",
   "metadata": {},
   "source": [
    "## Lenguajes de la Ciencia de Datos\n",
    "1. Python\n",
    "2. R\n",
    "3. SQL\n",
    "4. Julia\n",
    "5. Scala"
   ]
  },
  {
   "cell_type": "markdown",
   "metadata": {},
   "source": [
    "## Bibliotecas de Ciencia de Datos\n",
    "- NumPy\n",
    "- Pandas\n",
    "- Matplotlib\n",
    "- Scikit-learn\n",
    "- TensorFlow"
   ]
  },
  {
   "cell_type": "markdown",
   "metadata": {},
   "source": [
    "## Herramientas de Ciencia de Datos\n",
    "\n",
    "| Herramienta     | Descripción                           |\n",
    "|------------------|---------------------------------------|\n",
    "| Jupyter Notebook  | Entorno interactivo para la programación |\n",
    "| Anaconda          | Distribución de Python para la ciencia de datos |\n",
    "| Tableau           | Herramienta de visualización de datos |\n",
    "| Git               | Control de versiones                  |"
   ]
  },
  {
   "cell_type": "markdown",
   "metadata": {},
   "source": [
    "## Ejemplos de Expresiones Aritméticas\n",
    "A continuación se presentan algunas expresiones aritméticas simples que se pueden realizar en Python:\n",
    "- Suma: `a + b`\n",
    "- Resta: `a - b`\n",
    "- Multiplicación: `a * b`\n",
    "- División: `a / b`"
   ]
  },
  {
   "cell_type": "code",
   "execution_count": 4,
   "metadata": {},
   "outputs": [
    {
     "data": {
      "text/plain": [
       "(50, 15)"
      ]
     },
     "execution_count": 4,
     "metadata": {},
     "output_type": "execute_result"
    }
   ],
   "source": [
    "# Multiplicación y suma de números\n",
    "a = 5\n",
    "b = 10\n",
    "\n",
    "multiplicacion = a * b\n",
    "suma = a + b\n",
    "\n",
    "multiplicacion, suma"
   ]
  },
  {
   "cell_type": "code",
   "execution_count": 5,
   "metadata": {},
   "outputs": [
    {
     "data": {
      "text/plain": [
       "2.0"
      ]
     },
     "execution_count": 5,
     "metadata": {},
     "output_type": "execute_result"
    }
   ],
   "source": [
    "# Conversión de minutos a horas\n",
    "def convertir_minutos_a_horas(minutos):\n",
    "    return minutos / 60\n",
    "\n",
    "minutos = 120\n",
    "horas = convertir_minutos_a_horas(minutos)\n",
    "horas"
   ]
  },
  {
   "cell_type": "code",
   "execution_count": 6,
   "metadata": {},
   "outputs": [
    {
     "data": {
      "text/plain": [
       "['Comprender los conceptos básicos de ciencia de datos',\n",
       " 'Ser mejor con lenguajes y herramientas',\n",
       " 'Analizar y visualizar de datos']"
      ]
     },
     "execution_count": 6,
     "metadata": {},
     "output_type": "execute_result"
    }
   ],
   "source": [
    "# Listar objetivos\n",
    "objetivos = [\n",
    "    \"Comprender los conceptos básicos de ciencia de datos\",\n",
    "    \"Ser mejor con lenguajes y herramientas\",\n",
    "    \"Analizar y visualizar de datos\"\n",
    "]\n",
    "\n",
    "objetivos"
   ]
  },
  {
   "cell_type": "markdown",
   "metadata": {},
   "source": [
    "## Autor\n",
    "Este cuaderno ha sido creado por [Andres Felipe Plata Avendaño]."
   ]
  }
 ],
 "metadata": {
  "kernelspec": {
   "display_name": "Python 3",
   "language": "python",
   "name": "python3"
  },
  "language_info": {
   "codemirror_mode": {
    "name": "ipython",
    "version": 3
   },
   "file_extension": ".py",
   "mimetype": "text/x-python",
   "name": "python",
   "nbconvert_exporter": "python",
   "pygments_lexer": "ipython3",
   "version": "3.12.4"
  }
 },
 "nbformat": 4,
 "nbformat_minor": 2
}
